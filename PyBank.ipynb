{
 "cells": [
  {
   "cell_type": "code",
   "execution_count": 5,
   "id": "60a42291",
   "metadata": {},
   "outputs": [
    {
     "name": "stdout",
     "output_type": "stream",
     "text": [
      "----------------------------------------------------------\n",
      "Financial Analysis\n",
      "----------------------------------------------------------\n",
      "Total Months: 86\n",
      "Total Profits: $22564198\n",
      "Average Change: $4500.46\n",
      "Greatest Increase in Profits: Aug-16 ($1862002)\n",
      "Greatest Decrease in Profits: Feb-14 ($-1825558)\n",
      "----------------------------------------------------------\n"
     ]
    }
   ],
   "source": [
    "import csv\n",
    "import os\n",
    "\n",
    "\n",
    "PyBankcsv = os.path.join(\"Resources\",\"budget_data.csv\")\n",
    "\n",
    "\n",
    "profit = []\n",
    "monthly_changes = []\n",
    "date = []\n",
    "count = 0\n",
    "total_profit = 0\n",
    "total_change_profits = 0\n",
    "initial_profit = 0\n",
    "\n",
    "with open(PyBankcsv, newline=\"\") as csvfile:\n",
    "    csvreader = csv.reader(csvfile, delimiter=\",\")\n",
    "    csv_header = next(csvreader)\n",
    "\n",
    "    \n",
    "    for row in csvreader:    \n",
    "        \n",
    "        count += 1 \n",
    "\n",
    "        date.append(row[0])\n",
    "        profit.append(int(row[1]))\n",
    "        total_profit += int(row[1])\n",
    "\n",
    "       \n",
    "        final_profit = int(row[1])\n",
    "        monthly_change_profits = final_profit - initial_profit\n",
    "        monthly_changes.append(monthly_change_profits)\n",
    "\n",
    "        total_change_profits += monthly_change_profits\n",
    "        initial_profit = final_profit\n",
    "\n",
    "    \n",
    "    average_change_profits = total_change_profits / (count - 1)\n",
    "    \n",
    "    \n",
    "    greatest_increase_profits = max(monthly_changes)\n",
    "    greatest_decrease_profits = min(monthly_changes)\n",
    "    \n",
    "    increase_date = date[monthly_changes.index(greatest_increase_profits)]\n",
    "    decrease_date = date[monthly_changes.index(greatest_decrease_profits)]\n",
    "    \n",
    "    # Print the analysis results\n",
    "    print(\"----------------------------------------------------------\")\n",
    "    print(\"Financial Analysis\")\n",
    "    print(\"----------------------------------------------------------\")\n",
    "    print(f\"Total Months: {count}\")\n",
    "    print(f\"Total Profits: ${total_profit}\")\n",
    "    print(f\"Average Change: ${average_change_profits:.2f}\")\n",
    "    print(f\"Greatest Increase in Profits: {increase_date} (${greatest_increase_profits})\")\n",
    "    print(f\"Greatest Decrease in Profits: {decrease_date} (${greatest_decrease_profits})\")\n",
    "    print(\"----------------------------------------------------------\")\n"
   ]
  },
  {
   "cell_type": "code",
   "execution_count": null,
   "id": "d079d4b6",
   "metadata": {},
   "outputs": [],
   "source": []
  }
 ],
 "metadata": {
  "kernelspec": {
   "display_name": "Python 3 (ipykernel)",
   "language": "python",
   "name": "python3"
  },
  "language_info": {
   "codemirror_mode": {
    "name": "ipython",
    "version": 3
   },
   "file_extension": ".py",
   "mimetype": "text/x-python",
   "name": "python",
   "nbconvert_exporter": "python",
   "pygments_lexer": "ipython3",
   "version": "3.11.5"
  }
 },
 "nbformat": 4,
 "nbformat_minor": 5
}
