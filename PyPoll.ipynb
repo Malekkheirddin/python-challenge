{
 "cells": [
  {
   "cell_type": "code",
   "execution_count": 1,
   "id": "5e3f2863",
   "metadata": {},
   "outputs": [
    {
     "name": "stdout",
     "output_type": "stream",
     "text": [
      "Election Results\n",
      "-------------------------\n",
      "Total Votes: 369711\n",
      "-------------------------\n",
      "Charles Casper Stockham: 23.049%   (85213)\n",
      "Diana DeGette: 73.812%   (272892)\n",
      "Raymon Anthony Doane: 3.139%   (11606)\n",
      "-------------------------\n",
      "Winner: Diana DeGette\n"
     ]
    }
   ],
   "source": [
    "import csv\n",
    "import os\n",
    "from collections import Counter\n",
    "\n",
    "\n",
    "\n",
    "election_data_csv = os.path.join(\"Resources\",\"election_data.csv\")\n",
    "\n",
    "\n",
    "\n",
    "total_votes = 0\n",
    "votes_per_candidate = Counter()\n",
    "\n",
    "\n",
    "with open(election_data_csv, newline='') as csvfile:\n",
    "    csvreader = csv.reader(csvfile, delimiter=',')\n",
    "    next(csvreader) #this code will skip the header row \n",
    "    for row in csvreader:\n",
    "        total_votes += 1\n",
    "        votes_per_candidate[row[2]] += 1\n",
    "\n",
    "print(\"Election Results\")\n",
    "print(\"-------------------------\")\n",
    "print(\"Total Votes: \" + str(total_votes))\n",
    "print(\"-------------------------\")\n",
    "\n",
    "for candidate, votes in votes_per_candidate.items():\n",
    "    print(f\"{candidate}: {votes / total_votes:.3%}   ({votes})\")\n",
    "    \n",
    "print(\"-------------------------\") \n",
    "\n",
    "winner = votes_per_candidate.most_common(1)[0][0]\n",
    "print(f\"Winner: {winner}\")"
   ]
  },
  {
   "cell_type": "code",
   "execution_count": null,
   "id": "5f43ef29",
   "metadata": {},
   "outputs": [],
   "source": []
  }
 ],
 "metadata": {
  "kernelspec": {
   "display_name": "Python 3 (ipykernel)",
   "language": "python",
   "name": "python3"
  },
  "language_info": {
   "codemirror_mode": {
    "name": "ipython",
    "version": 3
   },
   "file_extension": ".py",
   "mimetype": "text/x-python",
   "name": "python",
   "nbconvert_exporter": "python",
   "pygments_lexer": "ipython3",
   "version": "3.11.5"
  }
 },
 "nbformat": 4,
 "nbformat_minor": 5
}
